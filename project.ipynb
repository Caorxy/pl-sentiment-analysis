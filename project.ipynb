{
  "nbformat": 4,
  "nbformat_minor": 0,
  "metadata": {
    "colab": {
      "provenance": [],
      "gpuType": "T4"
    },
    "kernelspec": {
      "name": "python3",
      "display_name": "Python 3"
    },
    "language_info": {
      "name": "python"
    },
    "accelerator": "GPU"
  },
  "cells": [
    {
      "cell_type": "code",
      "execution_count": 1,
      "metadata": {
        "colab": {
          "base_uri": "https://localhost:8080/"
        },
        "id": "pViCsOnQVM0Z",
        "outputId": "a5edf6d8-31f1-4bb0-a296-5eb234b87bf0"
      },
      "outputs": [
        {
          "output_type": "stream",
          "name": "stdout",
          "text": [
            "Collecting morfeusz2\n",
            "  Downloading morfeusz2-1.99.8-20240126-cp310.cp36.cp37.cp38.cp39-abi3-manylinux2014_x86_64.whl (8.6 MB)\n",
            "\u001b[2K     \u001b[90m━━━━━━━━━━━━━━━━━━━━━━━━━━━━━━━━━━━━━━━━\u001b[0m \u001b[32m8.6/8.6 MB\u001b[0m \u001b[31m13.8 MB/s\u001b[0m eta \u001b[36m0:00:00\u001b[0m\n",
            "\u001b[?25hInstalling collected packages: morfeusz2\n",
            "Successfully installed morfeusz2-1.99.8\n"
          ]
        },
        {
          "output_type": "stream",
          "name": "stderr",
          "text": [
            "[nltk_data] Downloading package punkt to /root/nltk_data...\n",
            "[nltk_data]   Unzipping tokenizers/punkt.zip.\n",
            "[nltk_data] Downloading package wordnet to /root/nltk_data...\n"
          ]
        },
        {
          "output_type": "stream",
          "name": "stdout",
          "text": [
            "Using device: cpu\n"
          ]
        }
      ],
      "source": [
        "import numpy as np\n",
        "import pandas as pd\n",
        "import torch\n",
        "from torch.utils.data import Dataset, DataLoader\n",
        "from transformers import BertTokenizer, BertModel\n",
        "import torch.nn as nn\n",
        "import torch.optim as optim\n",
        "from sklearn.metrics import mean_absolute_error\n",
        "import pandas as pd\n",
        "import string\n",
        "from collections import defaultdict, Counter\n",
        "from nltk.corpus import stopwords\n",
        "from nltk.tokenize import word_tokenize\n",
        "!pip install morfeusz2\n",
        "import morfeusz2\n",
        "import nltk\n",
        "nltk.download('punkt')\n",
        "nltk.download('wordnet')\n",
        "from sklearn.preprocessing import LabelEncoder\n",
        "from sklearn.feature_extraction.text import CountVectorizer\n",
        "\n",
        "# Check for GPU availability and set device\n",
        "device = torch.device('cuda') if torch.cuda.is_available() else torch.device('cpu')\n",
        "print(f'Using device: {device}')"
      ]
    },
    {
      "cell_type": "markdown",
      "source": [
        "# Wczytanie danych\n",
        "Będziemy pracować na zbiorze danych zwierających opinie z allegro. Datasety zawierają opinie wraz z przyporządkowaną liczbą gwiazdek (1-5). Każda opinia zawiera przyjnamniej 50 znaków. Będziemy trenować nasze modele na zestawie treningowym i sprawdzać działanie na zestwie do ewaluacji.\n",
        "Zacznijmy od wczytania danych i wizualizacji"
      ],
      "metadata": {
        "id": "-IrfU-9iVWUg"
      }
    },
    {
      "cell_type": "code",
      "source": [
        "import pandas as pd\n",
        "\n",
        "train_df = pd.read_csv('train.tsv', delimiter='\\t')\n",
        "dev_df = pd.read_csv('dev.tsv', delimiter='\\t')\n",
        "\n",
        "# Konwersja ocen na liczby całkowite\n",
        "train_df['rating'] = train_df['rating'].astype(int)\n",
        "dev_df['rating'] = dev_df['rating'].astype(int)\n",
        "\n",
        "print(train_df.head())\n",
        "print(dev_df.head())"
      ],
      "metadata": {
        "colab": {
          "base_uri": "https://localhost:8080/"
        },
        "id": "pFcnnpRtVWfn",
        "outputId": "7f7e8c95-8bc0-4d6b-c282-b9d20f161142"
      },
      "execution_count": 3,
      "outputs": [
        {
          "output_type": "stream",
          "name": "stdout",
          "text": [
            "                                                text  rating\n",
            "0  Jako do ceny dobra. Przyssawka mogłaby być lep...       3\n",
            "1  Na słuchawkę czekałam spory czas a po zadzwoni...       1\n",
            "2  Czajnik na pierwszy rzut oka wygląda ok, ale n...       1\n",
            "3  Bardzo fajny czajnik, na pewno nie gorszy od m...       4\n",
            "4  Pomysł na produkt (uchwyt na kierownicę) bardz...       2\n",
            "                                                text  rating\n",
            "0  Generalnie ok.  Znośna jakość dźwięku. Ale to ...       3\n",
            "1  W upalne dni przyssawka staje się tak elastycz...       4\n",
            "2  Według mnie statyw na początku był bardzo fajn...       1\n",
            "3  Specyfikacja mówi sama za siebie i faktycznie ...       5\n",
            "4  Wykonanie przeciętne . Krajalnicy nie używamy ...       3\n"
          ]
        }
      ]
    },
    {
      "cell_type": "markdown",
      "source": [
        "# Wizualizacja danych\n",
        "Widzimy, że zdecydoawnie największą grupę stanowią opinie z 5 gwiazdkami. Najmniej jest opinii z 2 i 3 gwiazdkami co może stanowić pewien problem, tym bardziej że są to zazwyczaj \"trudniejsze\" przykłady do klasyfikacji niż opinie na 5 lub 1 gwiazdkę."
      ],
      "metadata": {
        "id": "FvsW-XMCccAz"
      }
    },
    {
      "cell_type": "code",
      "source": [
        "import pandas as pd\n",
        "import matplotlib.pyplot as plt\n",
        "\n",
        "# Count the number of entries for each rating\n",
        "train_rating_counts = train_df['rating'].value_counts().sort_index()\n",
        "dev_rating_counts = dev_df['rating'].value_counts().sort_index()\n",
        "\n",
        "# Create a figure and a set of subplots\n",
        "fig, axs = plt.subplots(1, 2, figsize=(16, 8))\n",
        "\n",
        "# Plot pie chart for train set\n",
        "axs[0].pie(train_rating_counts, labels=train_rating_counts.index, autopct='%1.1f%%', startangle=140)\n",
        "axs[0].set_title('Distribution of Ratings in Train Set')\n",
        "\n",
        "# Plot pie chart for dev set\n",
        "axs[1].pie(dev_rating_counts, labels=dev_rating_counts.index, autopct='%1.1f%%', startangle=140)\n",
        "axs[1].set_title('Distribution of Ratings in Dev Set')\n",
        "\n",
        "# Display the charts\n",
        "plt.tight_layout()\n",
        "plt.show()\n"
      ],
      "metadata": {
        "colab": {
          "base_uri": "https://localhost:8080/",
          "height": 748
        },
        "id": "FtlGXr5RccaD",
        "outputId": "28064fac-6d5a-4c29-cd88-dd2ca88d6293"
      },
      "execution_count": 4,
      "outputs": [
        {
          "output_type": "display_data",
          "data": {
            "text/plain": [
              "<Figure size 1600x800 with 2 Axes>"
            ],
            "image/png": "[encoded data removed]"
          },
          "metadata": {}
        }
      ]
    },
    {
      "cell_type": "markdown",
      "source": [
        "# Metryki\n",
        "Do sprawdzania skuteczności będziemy używać accurancy oraz AR score zaproponowanego przez autorów datasetu. Jest to bardziej sensowna metryka niż zwykłe accurancy, bo uwzględnia jak bardzo się pomylimy.\n",
        "Przykładowo jeżeli opinię z oceną \"5\" zakwalifikujemy na \"4\" to jest to dużo lepiej niż gdybyśmy uznali ją np. za \"1\""
      ],
      "metadata": {
        "id": "QIrV0RxXfp0c"
      }
    },
    {
      "cell_type": "code",
      "source": [
        "import pandas as pd\n",
        "from sklearn.metrics import mean_absolute_error\n",
        "\n",
        "\n",
        "def ar_score(y_true, y_pred):\n",
        "    ds = pd.DataFrame({\n",
        "        'y_true': (y_true - 1.0)/4.0,\n",
        "        'y_pred': (y_pred - 1.0)/4.0,\n",
        "    })\n",
        "    wmae = ds \\\n",
        "        .groupby('y_true') \\\n",
        "        .apply(lambda df: mean_absolute_error(df['y_true'], df['y_pred'])) \\\n",
        "        .mean()\n",
        "\n",
        "    return 1 - wmae"
      ],
      "metadata": {
        "id": "VW2C0UnBfplO"
      },
      "execution_count": 5,
      "outputs": []
    },
    {
      "cell_type": "markdown",
      "source": [
        "# 3 różne podejścia do czyszczenia danych\n",
        "Sprawdzimy jak rózne sposoby przetwarzania tekstu wpłyną na skuteczność przewidywań. W pierwszej wersji stosujemy podstawowe operacje do przetwarzania tekstu, w drugiej dodatkowo usuwamy stopwordy które często pojawiają się w jęxyku polskim, a w trzeciej wersji dodatkowo używamy lemmatizera Morfeusz"
      ],
      "metadata": {
        "id": "ZPzCTXs_fyfk"
      }
    },
    {
      "cell_type": "code",
      "source": [
        "# Basic Text Cleaning\n",
        "def basic_text_cleaning(text):\n",
        "    text = text.lower()\n",
        "    text = text.translate(str.maketrans('', '', string.punctuation))\n",
        "    text = ''.join([i for i in text if not i.isdigit()])\n",
        "    return text"
      ],
      "metadata": {
        "id": "vfSJbuC6f89B"
      },
      "execution_count": 6,
      "outputs": []
    },
    {
      "cell_type": "code",
      "source": [
        "#  Basic Text Cleaning + Removing Stopwords\n",
        "def remove_stopwords(text, stopwords_list):\n",
        "    words = word_tokenize(text)\n",
        "    words = [word for word in words if word.lower() not in stopwords_list]\n",
        "    return ' '.join(words)\n"
      ],
      "metadata": {
        "id": "0FleLHRjf9Hf"
      },
      "execution_count": 7,
      "outputs": []
    },
    {
      "cell_type": "code",
      "source": [
        "# Basic Text Cleaning + Removing Stopwords + morfeusz Lemmatization\n",
        "def lemmatize_text(text, morf):\n",
        "    words = word_tokenize(text)\n",
        "    words = [morf.analyse(word)[0][2][1].split(':')[0] for word in words]\n",
        "    return ' '.join(words)"
      ],
      "metadata": {
        "id": "1lza95ytf9UL"
      },
      "execution_count": 8,
      "outputs": []
    },
    {
      "cell_type": "markdown",
      "source": [
        "Sprawdźmy przykłady po przetworzeniu tekstu różnymi metodamu"
      ],
      "metadata": {
        "id": "8Zn1fM29gP14"
      }
    },
    {
      "cell_type": "code",
      "source": [
        "# Load stopwords\n",
        "with open('polish.stopwords.txt', 'r') as f:\n",
        "    stopwords_list = f.read().splitlines()\n",
        "\n",
        "morf = morfeusz2.Morfeusz()\n",
        "\n",
        "# Apply data cleaning methods\n",
        "train_df['text_basic_clean'] = train_df['text'].apply(basic_text_cleaning)\n",
        "dev_df['text_basic_clean'] = dev_df['text'].apply(basic_text_cleaning)\n",
        "\n",
        "train_df['text_no_stopwords'] = train_df['text_basic_clean'].apply(lambda x: remove_stopwords(x, stopwords_list))\n",
        "dev_df['text_no_stopwords'] = dev_df['text_basic_clean'].apply(lambda x: remove_stopwords(x, stopwords_list))\n",
        "\n",
        "train_df['text_lemmatized'] = train_df['text_no_stopwords'].apply(lambda x: lemmatize_text(x, morf))\n",
        "dev_df['text_lemmatized'] = dev_df['text_no_stopwords'].apply(lambda x: lemmatize_text(x, morf))\n",
        "\n",
        "print(train_df.head())\n",
        "print(dev_df.head())"
      ],
      "metadata": {
        "colab": {
          "base_uri": "https://localhost:8080/"
        },
        "id": "mAP07tYfgQM3",
        "outputId": "59004205-a1b3-4c2d-d29e-1dc875e7b1d4"
      },
      "execution_count": 9,
      "outputs": [
        {
          "output_type": "stream",
          "name": "stdout",
          "text": [
            "                                                text  rating  \\\n",
            "0  Jako do ceny dobra. Przyssawka mogłaby być lep...       3   \n",
            "1  Na słuchawkę czekałam spory czas a po zadzwoni...       1   \n",
            "2  Czajnik na pierwszy rzut oka wygląda ok, ale n...       1   \n",
            "3  Bardzo fajny czajnik, na pewno nie gorszy od m...       4   \n",
            "4  Pomysł na produkt (uchwyt na kierownicę) bardz...       2   \n",
            "\n",
            "                                    text_basic_clean  \\\n",
            "0  jako do ceny dobra przyssawka mogłaby być leps...   \n",
            "1  na słuchawkę czekałam spory czas a po zadzwoni...   \n",
            "2  czajnik na pierwszy rzut oka wygląda ok ale ni...   \n",
            "3  bardzo fajny czajnik na pewno nie gorszy od ma...   \n",
            "4  pomysł na produkt uchwyt na kierownicę bardzo ...   \n",
            "\n",
            "                                   text_no_stopwords  \\\n",
            "0  ceny dobra przyssawka mogłaby lepsza miesiącac...   \n",
            "1  słuchawkę czekałam spory czas zadzwonieniu oka...   \n",
            "2  czajnik pierwszy rzut oka wygląda ok polecam w...   \n",
            "3  fajny czajnik pewno gorszy markowych tefal bos...   \n",
            "4  pomysł produkt uchwyt kierownicę dobry wykonan...   \n",
            "\n",
            "                                     text_lemmatized  \n",
            "0  cena dobra przyssawka móc lepsza miesiąc użytk...  \n",
            "1  słuchawka czekać spora czas zadzwonić okazać p...  \n",
            "2  czajnik pierwszy rzut oko wyglądać oko polecać...  \n",
            "3  fajny czajnik pewno zły markowy tefal bosch tr...  \n",
            "4  pomysł produkt uchwyt kierownica dobry wykonan...  \n",
            "                                                text  rating  \\\n",
            "0  Generalnie ok.  Znośna jakość dźwięku. Ale to ...       3   \n",
            "1  W upalne dni przyssawka staje się tak elastycz...       4   \n",
            "2  Według mnie statyw na początku był bardzo fajn...       1   \n",
            "3  Specyfikacja mówi sama za siebie i faktycznie ...       5   \n",
            "4  Wykonanie przeciętne . Krajalnicy nie używamy ...       3   \n",
            "\n",
            "                                    text_basic_clean  \\\n",
            "0  generalnie ok  znośna jakość dźwięku ale to cz...   \n",
            "1  w upalne dni przyssawka staje się tak elastycz...   \n",
            "2  według mnie statyw na początku był bardzo fajn...   \n",
            "3  specyfikacja mówi sama za siebie i faktycznie ...   \n",
            "4  wykonanie przeciętne  krajalnicy nie używamy c...   \n",
            "\n",
            "                                   text_no_stopwords  \\\n",
            "0  generalnie ok znośna jakość dźwięku czego brak...   \n",
            "1  upalne dni przyssawka staje elastyczna wrażeni...   \n",
            "2  statyw początku fajny miał możliwościale drugi...   \n",
            "3  specyfikacja mówi siebie faktycznie pisze zaci...   \n",
            "4  wykonanie przeciętne krajalnicy używamy min ci...   \n",
            "\n",
            "                                     text_lemmatized  \n",
            "0  generalnie oko znośny jakość dźwięk co brakowa...  \n",
            "1  upalny dzień przyssawka stajać elastyczny wraż...  \n",
            "2  statyw początek fajny miał możliwościale drugi...  \n",
            "3  specyfikacja mówić siebie faktycznie pisać zac...  \n",
            "4  wykonanie przeciętny krajalnica używać mina ci...  \n"
          ]
        }
      ]
    },
    {
      "cell_type": "markdown",
      "source": [
        "# Naive Bayes Classifier\n",
        "Pierwszym podejściem jakie zastosujemy będzie NBC."
      ],
      "metadata": {
        "id": "zoLlXBk2kxSy"
      }
    },
    {
      "cell_type": "code",
      "source": [
        "class NaiveBayesClassifier:\n",
        "    def __init__(self):\n",
        "        self.class_priors = {}\n",
        "        self.word_counts = {}\n",
        "        self.vocabulary = set()\n",
        "        self.class_word_counts = {}\n",
        "\n",
        "    def fit(self, texts, labels):\n",
        "        total_count = len(labels)\n",
        "        label_counts = Counter(labels)\n",
        "\n",
        "        # Calculate class priors\n",
        "        for label, count in label_counts.items():\n",
        "            self.class_priors[label] = count / total_count\n",
        "            self.word_counts[label] = defaultdict(int)\n",
        "            self.class_word_counts[label] = 0\n",
        "\n",
        "        # Count words per class\n",
        "        for text, label in zip(texts, labels):\n",
        "            words = text.split()\n",
        "            for word in words:\n",
        "                self.vocabulary.add(word)\n",
        "                self.word_counts[label][word] += 1\n",
        "                self.class_word_counts[label] += 1\n",
        "\n",
        "    def predict(self, texts):\n",
        "        predictions = []\n",
        "        for text in texts:\n",
        "            words = text.split()\n",
        "            class_scores = {}\n",
        "            for label in self.class_priors.keys():\n",
        "                # Initialize with the class prior\n",
        "                class_scores[label] = self.class_priors[label]\n",
        "                # Multiply by the likelihood of each word in the text\n",
        "                for word in words:\n",
        "                    word_count = self.word_counts[label].get(word, 0) + 1  # Add-one smoothing\n",
        "                    total_words = self.class_word_counts[label] + len(self.vocabulary)\n",
        "                    class_scores[label] *= word_count / total_words\n",
        "            predictions.append(max(class_scores, key=class_scores.get))\n",
        "        return predictions\n",
        "\n",
        "# Train and test the classifier using different cleaning methods\n",
        "def train_and_evaluate(train_texts, train_labels, dev_texts, dev_labels):\n",
        "    classifier = NaiveBayesClassifier()\n",
        "    classifier.fit(train_texts, train_labels)\n",
        "    predictions = classifier.predict(dev_texts)\n",
        "    accuracy = (predictions == dev_labels).mean()\n",
        "    arscore = ar_score(np.array(dev_labels), np.array(predictions))\n",
        "    return accuracy, arscore\n",
        "\n",
        "# Evaluate different cleaning methods\n",
        "results = {}\n",
        "\n",
        "# Raw Text\n",
        "accuracy, arscore = train_and_evaluate(train_df['text'], train_df['rating'], dev_df['text'], dev_df['rating'])\n",
        "results['Raw Text'] = (accuracy, arscore)\n",
        "print(f\"Raw Text accurancy: {accuracy}\")\n",
        "print(f\"Raw Text arscore: {arscore}\")\n",
        "print(f\"==============================================================\")\n",
        "\n",
        "# Basic Cleaning\n",
        "accuracy, arscore = train_and_evaluate(train_df['text_basic_clean'], train_df['rating'], dev_df['text_basic_clean'], dev_df['rating'])\n",
        "results['Basic Cleaning'] = (accuracy, arscore)\n",
        "print(f\"Basic Cleaning accurancy: {accuracy}\")\n",
        "print(f\"Basic Cleaning arscore: {arscore}\")\n",
        "print(f\"==============================================================\")\n",
        "\n",
        "# No Stopwords\n",
        "accuracy, arscore = train_and_evaluate(train_df['text_no_stopwords'], train_df['rating'], dev_df['text_no_stopwords'], dev_df['rating'])\n",
        "results['No Stopwords'] = (accuracy, arscore)\n",
        "print(f\"No Stopwords accurancy: {accuracy}\")\n",
        "print(f\"No Stopwords arscore: {arscore}\")\n",
        "print(f\"==============================================================\")\n",
        "\n",
        "# Lemmatization\n",
        "accuracy, arscore = train_and_evaluate(train_df['text_lemmatized'], train_df['rating'], dev_df['text_lemmatized'], dev_df['rating'])\n",
        "results['Lemmatization'] = (accuracy, arscore)\n",
        "print(f\"Lemmatization accurancy: {accuracy}\")\n",
        "print(f\"Lemmatization arscore: {arscore}\")\n",
        "print(f\"==============================================================\")\n"
      ],
      "metadata": {
        "colab": {
          "base_uri": "https://localhost:8080/"
        },
        "id": "aP1WYqP6kzf1",
        "outputId": "af9cb2ef-5625-4622-b233-4c2db0b0485d"
      },
      "execution_count": 12,
      "outputs": [
        {
          "output_type": "stream",
          "name": "stdout",
          "text": [
            "Raw Text accurancy: 0.41916167664670656\n",
            "Raw Text arscore: 0.6995178047679269\n",
            "==============================================================\n",
            "Basic Cleaning accurancy: 0.469061876247505\n",
            "Basic Cleaning arscore: 0.7381670705145645\n",
            "==============================================================\n",
            "No Stopwords accurancy: 0.48902195608782434\n",
            "No Stopwords arscore: 0.7405557517914758\n",
            "==============================================================\n",
            "Lemmatization accurancy: 0.469061876247505\n",
            "Lemmatization arscore: 0.7207749398235391\n",
            "==============================================================\n"
          ]
        }
      ]
    },
    {
      "cell_type": "markdown",
      "source": [
        "# Wizualizacja wyników\n"
      ],
      "metadata": {
        "id": "xAfgNWXJlPF_"
      }
    },
    {
      "cell_type": "code",
      "source": [
        "import matplotlib.pyplot as plt\n",
        "\n",
        "methods = list(results.keys())\n",
        "accuracies = [results[method][0] for method in methods]\n",
        "arscores = [results[method][1] for method in methods]\n",
        "\n",
        "x = range(len(methods))\n",
        "\n",
        "fig, ax1 = plt.subplots()\n",
        "\n",
        "color = 'tab:red'\n",
        "ax1.set_xlabel('Cleaning Method')\n",
        "ax1.set_ylabel('Accuracy', color=color)\n",
        "ax1.bar(x, accuracies, color=color, alpha=0.6, label='Accuracy')\n",
        "ax1.tick_params(axis='y', labelcolor=color)\n",
        "ax1.set_xticks(x)\n",
        "ax1.set_xticklabels(methods)\n",
        "\n",
        "ax2 = ax1.twinx()  # instantiate a second axes that shares the same x-axis\n",
        "color = 'tab:blue'\n",
        "ax2.set_ylabel('AR Score', color=color)  # we already handled the x-label with ax1\n",
        "ax2.plot(x, arscores, color=color, marker='o', label='AR Score')\n",
        "ax2.tick_params(axis='y', labelcolor=color)\n",
        "\n",
        "fig.tight_layout()  # otherwise the right y-label is slightly clipped\n",
        "plt.show()\n"
      ],
      "metadata": {
        "colab": {
          "base_uri": "https://localhost:8080/",
          "height": 487
        },
        "id": "HnCAheislUrI",
        "outputId": "46cf6c61-ebed-4a79-acac-5f024a4d26c5"
      },
      "execution_count": 13,
      "outputs": [
        {
          "output_type": "display_data",
          "data": {
            "text/plain": [
              "<Figure size 640x480 with 2 Axes>"
            ],
            "image/png": "[encoded data removed]"
          },
          "metadata": {}
        }
      ]
    },
    {
      "cell_type": "markdown",
      "source": [
        "# Inne podejście - prosta sieć neuronowa"
      ],
      "metadata": {
        "id": "UVnCJlyqojeB"
      }
    },
    {
      "cell_type": "code",
      "source": [
        "# Define a simple CNN for text classification\n",
        "class SimpleNN(nn.Module):\n",
        "    def __init__(self, num_features):\n",
        "        super(SimpleNN, self).__init__()\n",
        "        self.fc1 = nn.Linear(num_features, 16)\n",
        "        self.fc2 = nn.Linear(16, 32)\n",
        "        self.fc3 = nn.Linear(32, 16)\n",
        "        self.fc4 = nn.Linear(16, 5)\n",
        "\n",
        "    def forward(self, x):\n",
        "        x = torch.relu(self.fc1(x))\n",
        "        x = torch.relu(self.fc2(x))\n",
        "        x = torch.relu(self.fc3(x))\n",
        "        x = self.fc4(x)\n",
        "        return x"
      ],
      "metadata": {
        "id": "1Dkr7WVboj0p"
      },
      "execution_count": 14,
      "outputs": []
    },
    {
      "cell_type": "markdown",
      "source": [
        "# Tworzenie datasetów w formie dostosowanej do NN"
      ],
      "metadata": {
        "id": "W5vQAfT0qCNk"
      }
    },
    {
      "cell_type": "code",
      "source": [
        "# Custom dataset class\n",
        "class TextDataset(Dataset):\n",
        "    def __init__(self, texts, labels):\n",
        "        self.texts = texts\n",
        "        self.labels = labels\n",
        "\n",
        "    def __len__(self):\n",
        "        return len(self.texts)\n",
        "\n",
        "    def __getitem__(self, idx):\n",
        "        return self.texts[idx], self.labels[idx]\n",
        "\n",
        "# Simple tokenizer function\n",
        "def simple_tokenizer(text):\n",
        "    return word_tokenize(text.lower())\n",
        "\n",
        "# Function to create data loaders\n",
        "def create_data_loaders(train_texts, train_labels, dev_texts, dev_labels, vectorizer):\n",
        "    X_train = vectorizer.fit_transform(train_texts).toarray()\n",
        "    X_dev = vectorizer.transform(dev_texts).toarray()\n",
        "\n",
        "    # Convert texts to tensors\n",
        "    X_train = torch.tensor(X_train, dtype=torch.float32)\n",
        "    X_dev = torch.tensor(X_dev, dtype=torch.float32)\n",
        "\n",
        "    # Encode labels\n",
        "    label_encoder = LabelEncoder()\n",
        "    y_train = torch.tensor(label_encoder.fit_transform(train_labels), dtype=torch.long)\n",
        "    y_dev = torch.tensor(label_encoder.transform(dev_labels), dtype=torch.long)\n",
        "\n",
        "    # Create datasets and data loaders\n",
        "    train_dataset = TextDataset(X_train, y_train)\n",
        "    dev_dataset = TextDataset(X_dev, y_dev)\n",
        "\n",
        "    train_loader = DataLoader(train_dataset, batch_size=32, shuffle=True)\n",
        "    dev_loader = DataLoader(dev_dataset, batch_size=32, shuffle=False)\n",
        "\n",
        "    return train_loader, dev_loader, X_train.shape[1]"
      ],
      "metadata": {
        "id": "dahe6XVxqCgE"
      },
      "execution_count": 15,
      "outputs": []
    },
    {
      "cell_type": "markdown",
      "source": [
        "# Pętla treningowa"
      ],
      "metadata": {
        "id": "8Kijgi5pQUVB"
      }
    },
    {
      "cell_type": "code",
      "source": [
        "# Function to train and evaluate the model\n",
        "def train_and_evaluate(train_loader, dev_loader, input_size, num_epochs=10):\n",
        "    model = SimpleNN(num_features=input_size).to(device)\n",
        "    criterion = nn.CrossEntropyLoss()\n",
        "    optimizer = optim.Adam(model.parameters(), lr=0.001)\n",
        "\n",
        "    # Training loop\n",
        "    for epoch in range(num_epochs):\n",
        "        model.train()\n",
        "        for texts, labels in train_loader:\n",
        "            texts, labels = texts.to(device), labels.to(device)\n",
        "            optimizer.zero_grad()\n",
        "            outputs = model(texts)\n",
        "            loss = criterion(outputs, labels)\n",
        "            loss.backward()\n",
        "            optimizer.step()\n",
        "\n",
        "        print(f\"Epoch {epoch+1}/{num_epochs}, Loss: {loss.item()}\")\n",
        "\n",
        "    # Evaluate the model\n",
        "    model.eval()\n",
        "    with torch.no_grad():\n",
        "        correct = 0\n",
        "        total = 0\n",
        "        predictions = []\n",
        "        for texts, labels in dev_loader:\n",
        "            texts, labels = texts.to(device), labels.to(device)\n",
        "            outputs = model(texts)\n",
        "            _, predicted = torch.max(outputs.data, 1)\n",
        "            total += labels.size(0)\n",
        "            correct += (predicted == labels).sum().item()\n",
        "            predictions.extend(predicted.cpu().numpy() + 1) #back to label 1-5\n",
        "\n",
        "    accuracy = 100 * correct / total\n",
        "    return accuracy, predictions\n"
      ],
      "metadata": {
        "id": "mB-LPofWQT1I"
      },
      "execution_count": 16,
      "outputs": []
    },
    {
      "cell_type": "markdown",
      "source": [
        "# Wyniki\n",
        "Widzimy, że generalnie wyniki sieci neuronowej są bardzo zbliżone niezależnie od wybranej metody przetwarzania tekstu. Niemniej jednak są one wyraźnie wyższe niż w przybadku NBC zarówno pod względem accuracy jak i ar_score"
      ],
      "metadata": {
        "id": "HsDC7YCGqPns"
      }
    },
    {
      "cell_type": "code",
      "source": [
        "# Vectorizers\n",
        "vectorizer_raw = CountVectorizer(tokenizer=simple_tokenizer)\n",
        "vectorizer_basic = CountVectorizer(tokenizer=simple_tokenizer)\n",
        "vectorizer_stopwords = CountVectorizer(tokenizer=simple_tokenizer)\n",
        "vectorizer_lemmatized = CountVectorizer(tokenizer=simple_tokenizer)\n",
        "\n",
        "# Training and evaluation\n",
        "results = {}\n",
        "\n",
        "# Raw Text\n",
        "train_loader, dev_loader, input_size = create_data_loaders(train_df['text'], train_df['rating'], dev_df['text'], dev_df['rating'], vectorizer_basic)\n",
        "accuracy, predictions = train_and_evaluate(train_loader, dev_loader, input_size)\n",
        "arscore = ar_score(np.array(dev_df['rating']), np.array(predictions))\n",
        "results['Raw Text'] = (accuracy, arscore)\n",
        "\n",
        "print(f\"Raw Text accurancy: {accuracy}\")\n",
        "print(f\"Raw Text arscore: {arscore}\")\n",
        "print(f\"==============================================================\")"
      ],
      "metadata": {
        "colab": {
          "base_uri": "https://localhost:8080/"
        },
        "id": "4uySh1sJqP7X",
        "outputId": "62ee52aa-c9a8-4608-ecaf-070041e6d527"
      },
      "execution_count": 19,
      "outputs": [
        {
          "output_type": "stream",
          "name": "stderr",
          "text": [
            "/usr/local/lib/python3.10/dist-packages/sklearn/feature_extraction/text.py:528: UserWarning: The parameter 'token_pattern' will not be used since 'tokenizer' is not None'\n",
            "  warnings.warn(\n"
          ]
        },
        {
          "output_type": "stream",
          "name": "stdout",
          "text": [
            "Epoch 1/10, Loss: 0.8915970921516418\n",
            "Epoch 2/10, Loss: 0.9670464992523193\n",
            "Epoch 3/10, Loss: 0.8799364566802979\n",
            "Epoch 4/10, Loss: 0.10556694120168686\n",
            "Epoch 5/10, Loss: 0.006062192376703024\n",
            "Epoch 6/10, Loss: 0.0148850679397583\n",
            "Epoch 7/10, Loss: 0.01691104844212532\n",
            "Epoch 8/10, Loss: 0.05557815358042717\n",
            "Epoch 9/10, Loss: 0.004353719297796488\n",
            "Epoch 10/10, Loss: 0.0027437517419457436\n",
            "Raw Text accurancy: 51.19760479041916\n",
            "Raw Text arscore: 0.8233997451827876\n",
            "==============================================================\n"
          ]
        }
      ]
    },
    {
      "cell_type": "code",
      "source": [
        "# Basic Cleaning\n",
        "train_loader, dev_loader, input_size = create_data_loaders(train_df['text_basic_clean'], train_df['rating'], dev_df['text_basic_clean'], dev_df['rating'], vectorizer_basic)\n",
        "accuracy, predictions = train_and_evaluate(train_loader, dev_loader, input_size)\n",
        "arscore = ar_score(np.array(dev_df['rating']), np.array(predictions))\n",
        "results['Basic Cleaning'] = (accuracy, arscore)\n",
        "\n",
        "print(f\"Basic Cleaning accurancy: {accuracy}\")\n",
        "print(f\"Basic Cleaning arscore: {arscore}\")\n",
        "print(f\"==============================================================\")"
      ],
      "metadata": {
        "id": "V0Iu-nCHsoDp",
        "colab": {
          "base_uri": "https://localhost:8080/"
        },
        "outputId": "15fe3db5-7133-4242-915a-1a87e0872d3e"
      },
      "execution_count": 20,
      "outputs": [
        {
          "output_type": "stream",
          "name": "stderr",
          "text": [
            "/usr/local/lib/python3.10/dist-packages/sklearn/feature_extraction/text.py:528: UserWarning: The parameter 'token_pattern' will not be used since 'tokenizer' is not None'\n",
            "  warnings.warn(\n"
          ]
        },
        {
          "output_type": "stream",
          "name": "stdout",
          "text": [
            "Epoch 1/10, Loss: 0.591691792011261\n",
            "Epoch 2/10, Loss: 0.39944422245025635\n",
            "Epoch 3/10, Loss: 0.2119176983833313\n",
            "Epoch 4/10, Loss: 0.015215251594781876\n",
            "Epoch 5/10, Loss: 0.022284843027591705\n",
            "Epoch 6/10, Loss: 0.04793720319867134\n",
            "Epoch 7/10, Loss: 0.0011230772361159325\n",
            "Epoch 8/10, Loss: 0.0233723483979702\n",
            "Epoch 9/10, Loss: 0.017595814540982246\n",
            "Epoch 10/10, Loss: 0.0005095290252938867\n",
            "Basic Cleaning accurancy: 52.19560878243513\n",
            "Basic Cleaning arscore: 0.8103094682557421\n",
            "==============================================================\n"
          ]
        }
      ]
    },
    {
      "cell_type": "code",
      "source": [
        "# No Stopwords\n",
        "train_loader, dev_loader, input_size = create_data_loaders(train_df['text_no_stopwords'], train_df['rating'], dev_df['text_no_stopwords'], dev_df['rating'], vectorizer_stopwords)\n",
        "accuracy, predictions = train_and_evaluate(train_loader, dev_loader, input_size)\n",
        "arscore = ar_score(np.array(dev_df['rating']), np.array(predictions))\n",
        "results['No Stopwords'] = (accuracy, arscore)\n",
        "\n",
        "print(f\"No Stopwords accurancy: {accuracy}\")\n",
        "print(f\"No Stopwords arscore: {arscore}\")\n",
        "print(f\"==============================================================\")"
      ],
      "metadata": {
        "id": "NurKRt8csn_a",
        "colab": {
          "base_uri": "https://localhost:8080/"
        },
        "outputId": "2baad652-1c6a-4d68-8c78-6bcaee6b9371"
      },
      "execution_count": 21,
      "outputs": [
        {
          "output_type": "stream",
          "name": "stderr",
          "text": [
            "/usr/local/lib/python3.10/dist-packages/sklearn/feature_extraction/text.py:528: UserWarning: The parameter 'token_pattern' will not be used since 'tokenizer' is not None'\n",
            "  warnings.warn(\n"
          ]
        },
        {
          "output_type": "stream",
          "name": "stdout",
          "text": [
            "Epoch 1/10, Loss: 0.8231000900268555\n",
            "Epoch 2/10, Loss: 0.9736964106559753\n",
            "Epoch 3/10, Loss: 0.5099686980247498\n",
            "Epoch 4/10, Loss: 0.4449259340763092\n",
            "Epoch 5/10, Loss: 0.024825159460306168\n",
            "Epoch 6/10, Loss: 0.0036814974155277014\n",
            "Epoch 7/10, Loss: 0.010876213200390339\n",
            "Epoch 8/10, Loss: 0.010676683858036995\n",
            "Epoch 9/10, Loss: 0.026672188192605972\n",
            "Epoch 10/10, Loss: 0.014201221987605095\n",
            "No Stopwords accurancy: 52.29540918163673\n",
            "No Stopwords arscore: 0.8182887711072826\n",
            "==============================================================\n"
          ]
        }
      ]
    },
    {
      "cell_type": "code",
      "source": [
        "# Lemmatization\n",
        "train_loader, dev_loader, input_size = create_data_loaders(train_df['text_lemmatized'], train_df['rating'], dev_df['text_lemmatized'], dev_df['rating'], vectorizer_lemmatized)\n",
        "accuracy, predictions = train_and_evaluate(train_loader, dev_loader, input_size)\n",
        "arscore = ar_score(np.array(dev_df['rating']), np.array(predictions))\n",
        "results['Lemmatization'] = (accuracy, arscore)\n",
        "\n",
        "print(f\"Lemmatization accurancy: {accuracy}\")\n",
        "print(f\"Lemmatization arscore: {arscore}\")\n",
        "print(f\"==============================================================\")"
      ],
      "metadata": {
        "id": "wWlzdp7Bsn1h",
        "colab": {
          "base_uri": "https://localhost:8080/"
        },
        "outputId": "f6a10c81-7731-4888-ff38-0c04651e631c"
      },
      "execution_count": 22,
      "outputs": [
        {
          "output_type": "stream",
          "name": "stderr",
          "text": [
            "/usr/local/lib/python3.10/dist-packages/sklearn/feature_extraction/text.py:528: UserWarning: The parameter 'token_pattern' will not be used since 'tokenizer' is not None'\n",
            "  warnings.warn(\n"
          ]
        },
        {
          "output_type": "stream",
          "name": "stdout",
          "text": [
            "Epoch 1/10, Loss: 0.7449591159820557\n",
            "Epoch 2/10, Loss: 1.0144307613372803\n",
            "Epoch 3/10, Loss: 0.5803349018096924\n",
            "Epoch 4/10, Loss: 0.323323130607605\n",
            "Epoch 5/10, Loss: 0.0862489715218544\n",
            "Epoch 6/10, Loss: 0.46765750646591187\n",
            "Epoch 7/10, Loss: 0.01359308697283268\n",
            "Epoch 8/10, Loss: 0.07358996570110321\n",
            "Epoch 9/10, Loss: 0.3231377601623535\n",
            "Epoch 10/10, Loss: 0.05337880551815033\n",
            "Lemmatization accurancy: 49.40119760479042\n",
            "Lemmatization arscore: 0.7964941885870781\n",
            "==============================================================\n"
          ]
        }
      ]
    },
    {
      "cell_type": "markdown",
      "source": [
        "# Wizualizacja wyników"
      ],
      "metadata": {
        "id": "ML13MaLaqTBz"
      }
    },
    {
      "cell_type": "code",
      "source": [
        "# Plot the results\n",
        "import matplotlib.pyplot as plt\n",
        "\n",
        "methods = list(results.keys())\n",
        "accuracies = [results[method][0] for method in methods]\n",
        "arscores = [results[method][1] for method in methods]\n",
        "\n",
        "x = range(len(methods))\n",
        "\n",
        "fig, ax1 = plt.subplots()\n",
        "\n",
        "color = 'tab:red'\n",
        "ax1.set_xlabel('Cleaning Method')\n",
        "ax1.set_ylabel('Accuracy', color=color)\n",
        "ax1.bar(x, accuracies, color=color, alpha=0.6, label='Accuracy')\n",
        "ax1.tick_params(axis='y', labelcolor=color)\n",
        "ax1.set_xticks(x)\n",
        "ax1.set_xticklabels(methods)\n",
        "\n",
        "ax2 = ax1.twinx()  # instantiate a second axes that shares the same x-axis\n",
        "color = 'tab:blue'\n",
        "ax2.set_ylabel('AR Score', color=color)  # we already handled the x-label with ax1\n",
        "ax2.plot(x, arscores, color=color, marker='o', label='AR Score')\n",
        "ax2.tick_params(axis='y', labelcolor=color)\n",
        "\n",
        "fig.tight_layout()  # otherwise the right y-label is slightly clipped\n",
        "plt.show()\n"
      ],
      "metadata": {
        "id": "bb-LQImFqTa_",
        "colab": {
          "base_uri": "https://localhost:8080/",
          "height": 487
        },
        "outputId": "4184c93f-3eb8-40e3-b0a1-e52bf91ab714"
      },
      "execution_count": 23,
      "outputs": [
        {
          "output_type": "display_data",
          "data": {
            "text/plain": [
              "<Figure size 640x480 with 2 Axes>"
            ],
            "image/png": "[encoded data removed]"
          },
          "metadata": {}
        }
      ]
    },
    {
      "cell_type": "markdown",
      "source": [
        "# Inne podejścia - regresja liniowa i SVM\n",
        "Sprawdźmy także jak radzą sobie inne klasyczne meodele wykorzystywane do klasyfikacji - regresja liniowa oraz SVM\n",
        "\n",
        "**1) Regresja liniowa**"
      ],
      "metadata": {
        "id": "SECkJCPjYSpR"
      }
    },
    {
      "cell_type": "code",
      "source": [
        "from sklearn.linear_model import LogisticRegression\n",
        "from sklearn.metrics import accuracy_score, classification_report\n",
        "\n",
        "vectorizer = CountVectorizer(tokenizer=simple_tokenizer)\n",
        "\n",
        "# Evaluate different cleaning methods\n",
        "results = {}\n",
        "\n",
        "# Raw Text\n",
        "X_train = vectorizer.fit_transform(train_df['text'])\n",
        "X_dev = vectorizer.transform(dev_df['text'])\n",
        "logreg = LogisticRegression(max_iter=1000)\n",
        "logreg.fit(X_train, train_df['rating'])\n",
        "y_pred = logreg.predict(X_dev)\n",
        "accuracy = accuracy_score(dev_df['rating'], y_pred)\n",
        "arscore = ar_score(np.array(dev_df['rating']), np.array(y_pred))\n",
        "results['Raw Text'] = (accuracy, arscore)\n",
        "print(f\"Raw Text accurancy: {accuracy}\")\n",
        "print(f\"Raw Text arscore: {arscore}\")\n",
        "print(f\"==============================================================\")\n",
        "\n",
        "# Basic Cleaning\n",
        "X_train = vectorizer.fit_transform(train_df['text_basic_clean'])\n",
        "X_dev = vectorizer.transform(dev_df['text_basic_clean'])\n",
        "logreg = LogisticRegression(max_iter=1000)\n",
        "logreg.fit(X_train, train_df['rating'])\n",
        "y_pred = logreg.predict(X_dev)\n",
        "accuracy = accuracy_score(dev_df['rating'], y_pred)\n",
        "arscore = ar_score(np.array(dev_df['rating']), np.array(y_pred))\n",
        "results['Basic Cleaning'] = (accuracy, arscore)\n",
        "print(f\"Basic Cleaning accurancy: {accuracy}\")\n",
        "print(f\"Basic Cleaning arscore: {arscore}\")\n",
        "print(f\"==============================================================\")\n",
        "\n",
        "# No Stopwords\n",
        "X_train = vectorizer.fit_transform(train_df['text_no_stopwords'])\n",
        "X_dev = vectorizer.transform(dev_df['text_no_stopwords'])\n",
        "logreg = LogisticRegression(max_iter=1000)\n",
        "logreg.fit(X_train, train_df['rating'])\n",
        "y_pred = logreg.predict(X_dev)\n",
        "accuracy = accuracy_score(dev_df['rating'], y_pred)\n",
        "arscore = ar_score(np.array(dev_df['rating']), np.array(y_pred))\n",
        "results['No Stopwords'] = (accuracy, arscore)\n",
        "print(f\"No Stopwords accurancy: {accuracy}\")\n",
        "print(f\"No Stopwords arscore: {arscore}\")\n",
        "print(f\"==============================================================\")\n",
        "\n",
        "# Lemmatization\n",
        "X_train = vectorizer.fit_transform(train_df['text_lemmatized'])\n",
        "X_dev = vectorizer.transform(dev_df['text_lemmatized'])\n",
        "logreg = LogisticRegression(max_iter=1000)\n",
        "logreg.fit(X_train, train_df['rating'])\n",
        "y_pred = logreg.predict(X_dev)\n",
        "accuracy = accuracy_score(dev_df['rating'], y_pred)\n",
        "arscore = ar_score(np.array(dev_df['rating']), np.array(y_pred))\n",
        "results['Lemmatization'] = (accuracy, arscore)\n",
        "print(f\"Lemmatization accurancy: {accuracy}\")\n",
        "print(f\"Lemmatization arscore: {arscore}\")\n",
        "print(f\"==============================================================\")\n"
      ],
      "metadata": {
        "colab": {
          "base_uri": "https://localhost:8080/"
        },
        "id": "bDApkJRzXe0E",
        "outputId": "664dc135-e2fa-4425-fc8e-4077e4de42da"
      },
      "execution_count": 25,
      "outputs": [
        {
          "output_type": "stream",
          "name": "stderr",
          "text": [
            "/usr/local/lib/python3.10/dist-packages/sklearn/feature_extraction/text.py:528: UserWarning: The parameter 'token_pattern' will not be used since 'tokenizer' is not None'\n",
            "  warnings.warn(\n"
          ]
        },
        {
          "output_type": "stream",
          "name": "stdout",
          "text": [
            "Raw Text accurancy: 0.5419161676646707\n",
            "Raw Text arscore: 0.7956678942233392\n",
            "==============================================================\n"
          ]
        },
        {
          "output_type": "stream",
          "name": "stderr",
          "text": [
            "/usr/local/lib/python3.10/dist-packages/sklearn/feature_extraction/text.py:528: UserWarning: The parameter 'token_pattern' will not be used since 'tokenizer' is not None'\n",
            "  warnings.warn(\n"
          ]
        },
        {
          "output_type": "stream",
          "name": "stdout",
          "text": [
            "Basic Cleaning accurancy: 0.5299401197604791\n",
            "Basic Cleaning arscore: 0.7864716812988312\n",
            "==============================================================\n"
          ]
        },
        {
          "output_type": "stream",
          "name": "stderr",
          "text": [
            "/usr/local/lib/python3.10/dist-packages/sklearn/feature_extraction/text.py:528: UserWarning: The parameter 'token_pattern' will not be used since 'tokenizer' is not None'\n",
            "  warnings.warn(\n"
          ]
        },
        {
          "output_type": "stream",
          "name": "stdout",
          "text": [
            "No Stopwords accurancy: 0.5169660678642715\n",
            "No Stopwords arscore: 0.7749986825057623\n",
            "==============================================================\n"
          ]
        },
        {
          "output_type": "stream",
          "name": "stderr",
          "text": [
            "/usr/local/lib/python3.10/dist-packages/sklearn/feature_extraction/text.py:528: UserWarning: The parameter 'token_pattern' will not be used since 'tokenizer' is not None'\n",
            "  warnings.warn(\n"
          ]
        },
        {
          "output_type": "stream",
          "name": "stdout",
          "text": [
            "Lemmatization accurancy: 0.5059880239520959\n",
            "Lemmatization arscore: 0.7771992884417203\n",
            "==============================================================\n"
          ]
        }
      ]
    },
    {
      "cell_type": "code",
      "source": [
        "# Plot the results\n",
        "import matplotlib.pyplot as plt\n",
        "\n",
        "methods = list(results.keys())\n",
        "accuracies = [results[method][0] for method in methods]\n",
        "arscores = [results[method][1] for method in methods]\n",
        "\n",
        "x = range(len(methods))\n",
        "\n",
        "fig, ax1 = plt.subplots()\n",
        "\n",
        "color = 'tab:red'\n",
        "ax1.set_xlabel('Cleaning Method')\n",
        "ax1.set_ylabel('Accuracy', color=color)\n",
        "ax1.bar(x, accuracies, color=color, alpha=0.6, label='Accuracy')\n",
        "ax1.tick_params(axis='y', labelcolor=color)\n",
        "ax1.set_xticks(x)\n",
        "ax1.set_xticklabels(methods)\n",
        "\n",
        "ax2 = ax1.twinx()  # instantiate a second axes that shares the same x-axis\n",
        "color = 'tab:blue'\n",
        "ax2.set_ylabel('AR Score', color=color)  # we already handled the x-label with ax1\n",
        "ax2.plot(x, arscores, color=color, marker='o', label='AR Score')\n",
        "ax2.tick_params(axis='y', labelcolor=color)\n",
        "\n",
        "fig.tight_layout()  # otherwise the right y-label is slightly clipped\n",
        "plt.show()\n"
      ],
      "metadata": {
        "colab": {
          "base_uri": "https://localhost:8080/",
          "height": 487
        },
        "id": "KnJJs0u87n8c",
        "outputId": "f34b07ba-98ec-4a08-ac49-e7120bd40c78"
      },
      "execution_count": 26,
      "outputs": [
        {
          "output_type": "display_data",
          "data": {
            "text/plain": [
              "<Figure size 640x480 with 2 Axes>"
            ],
            "image/png": "[encoded data removed]"
          },
          "metadata": {}
        }
      ]
    },
    {
      "cell_type": "code",
      "source": [
        "from sklearn.svm import LinearSVC\n",
        "\n",
        "# Evaluate different cleaning methods\n",
        "results = {}\n",
        "\n",
        "# Raw Text\n",
        "X_train = vectorizer.fit_transform(train_df['text'])\n",
        "X_dev = vectorizer.transform(dev_df['text'])\n",
        "svm_model = LinearSVC(max_iter=1000)\n",
        "svm_model.fit(X_train, train_df['rating'])\n",
        "y_pred = svm_model.predict(X_dev)\n",
        "accuracy = accuracy_score(dev_df['rating'], y_pred)\n",
        "arscore = ar_score(np.array(dev_df['rating']), np.array(y_pred))\n",
        "results['Raw Text'] = (accuracy, arscore)\n",
        "print(f\"Raw Text accurancy: {accuracy}\")\n",
        "print(f\"Raw Text arscore: {arscore}\")\n",
        "print(f\"==============================================================\")\n",
        "\n",
        "# Basic Cleaning\n",
        "X_train = vectorizer.fit_transform(train_df['text_basic_clean'])\n",
        "X_dev = vectorizer.transform(dev_df['text_basic_clean'])\n",
        "svm_model = LinearSVC(max_iter=1000)\n",
        "svm_model.fit(X_train, train_df['rating'])\n",
        "y_pred = svm_model.predict(X_dev)\n",
        "accuracy = accuracy_score(dev_df['rating'], y_pred)\n",
        "arscore = ar_score(np.array(dev_df['rating']), np.array(y_pred))\n",
        "results['Basic Cleaning'] = (accuracy, arscore)\n",
        "print(f\"Basic Cleaning accurancy: {accuracy}\")\n",
        "print(f\"Basic Cleaning arscore: {arscore}\")\n",
        "print(f\"==============================================================\")\n",
        "\n",
        "# No Stopwords\n",
        "X_train = vectorizer.fit_transform(train_df['text_no_stopwords'])\n",
        "X_dev = vectorizer.transform(dev_df['text_no_stopwords'])\n",
        "svm_model = LinearSVC(max_iter=1000)\n",
        "svm_model.fit(X_train, train_df['rating'])\n",
        "y_pred = svm_model.predict(X_dev)\n",
        "accuracy = accuracy_score(dev_df['rating'], y_pred)\n",
        "arscore = ar_score(np.array(dev_df['rating']), np.array(y_pred))\n",
        "results['No Stopwords'] = (accuracy, arscore)\n",
        "print(f\"No Stopwords accurancy: {accuracy}\")\n",
        "print(f\"No Stopwords arscore: {arscore}\")\n",
        "print(f\"==============================================================\")\n",
        "\n",
        "# Lemmatization\n",
        "X_train = vectorizer.fit_transform(train_df['text_lemmatized'])\n",
        "X_dev = vectorizer.transform(dev_df['text_lemmatized'])\n",
        "svm_model = LinearSVC(max_iter=1000)\n",
        "svm_model.fit(X_train, train_df['rating'])\n",
        "y_pred = svm_model.predict(X_dev)\n",
        "accuracy = accuracy_score(dev_df['rating'], y_pred)\n",
        "arscore = ar_score(np.array(dev_df['rating']), np.array(y_pred))\n",
        "results['Lemmatization'] = (accuracy, arscore)\n",
        "print(f\"Lemmatization accurancy: {accuracy}\")\n",
        "print(f\"Lemmatization arscore: {arscore}\")\n",
        "print(f\"==============================================================\")"
      ],
      "metadata": {
        "colab": {
          "base_uri": "https://localhost:8080/"
        },
        "id": "PyRXKCGFYa1a",
        "outputId": "6032540e-6492-43fb-a114-38ce6921a7e0"
      },
      "execution_count": 48,
      "outputs": [
        {
          "output_type": "stream",
          "name": "stderr",
          "text": [
            "/usr/local/lib/python3.10/dist-packages/sklearn/feature_extraction/text.py:528: UserWarning: The parameter 'token_pattern' will not be used since 'tokenizer' is not None'\n",
            "  warnings.warn(\n",
            "/usr/local/lib/python3.10/dist-packages/sklearn/svm/_base.py:1244: ConvergenceWarning: Liblinear failed to converge, increase the number of iterations.\n",
            "  warnings.warn(\n",
            "/usr/local/lib/python3.10/dist-packages/sklearn/feature_extraction/text.py:528: UserWarning: The parameter 'token_pattern' will not be used since 'tokenizer' is not None'\n",
            "  warnings.warn(\n"
          ]
        },
        {
          "output_type": "stream",
          "name": "stdout",
          "text": [
            "Raw Text accurancy: 0.5249500998003992\n",
            "Raw Text arscore: 0.7891222850756887\n",
            "==============================================================\n"
          ]
        },
        {
          "output_type": "stream",
          "name": "stderr",
          "text": [
            "/usr/local/lib/python3.10/dist-packages/sklearn/svm/_base.py:1244: ConvergenceWarning: Liblinear failed to converge, increase the number of iterations.\n",
            "  warnings.warn(\n",
            "/usr/local/lib/python3.10/dist-packages/sklearn/feature_extraction/text.py:528: UserWarning: The parameter 'token_pattern' will not be used since 'tokenizer' is not None'\n",
            "  warnings.warn(\n"
          ]
        },
        {
          "output_type": "stream",
          "name": "stdout",
          "text": [
            "Basic Cleaning accurancy: 0.5079840319361277\n",
            "Basic Cleaning arscore: 0.7773587199358678\n",
            "==============================================================\n"
          ]
        },
        {
          "output_type": "stream",
          "name": "stderr",
          "text": [
            "/usr/local/lib/python3.10/dist-packages/sklearn/svm/_base.py:1244: ConvergenceWarning: Liblinear failed to converge, increase the number of iterations.\n",
            "  warnings.warn(\n",
            "/usr/local/lib/python3.10/dist-packages/sklearn/feature_extraction/text.py:528: UserWarning: The parameter 'token_pattern' will not be used since 'tokenizer' is not None'\n",
            "  warnings.warn(\n"
          ]
        },
        {
          "output_type": "stream",
          "name": "stdout",
          "text": [
            "No Stopwords accurancy: 0.5039920159680639\n",
            "No Stopwords arscore: 0.767604606779252\n",
            "==============================================================\n",
            "Lemmatization accurancy: 0.46107784431137727\n",
            "Lemmatization arscore: 0.7531007053188596\n",
            "==============================================================\n"
          ]
        },
        {
          "output_type": "stream",
          "name": "stderr",
          "text": [
            "/usr/local/lib/python3.10/dist-packages/sklearn/svm/_base.py:1244: ConvergenceWarning: Liblinear failed to converge, increase the number of iterations.\n",
            "  warnings.warn(\n"
          ]
        }
      ]
    },
    {
      "cell_type": "code",
      "source": [
        "# Plot the results\n",
        "import matplotlib.pyplot as plt\n",
        "\n",
        "methods = list(results.keys())\n",
        "accuracies = [results[method][0] for method in methods]\n",
        "arscores = [results[method][1] for method in methods]\n",
        "\n",
        "x = range(len(methods))\n",
        "\n",
        "fig, ax1 = plt.subplots()\n",
        "\n",
        "color = 'tab:red'\n",
        "ax1.set_xlabel('Cleaning Method')\n",
        "ax1.set_ylabel('Accuracy', color=color)\n",
        "ax1.bar(x, accuracies, color=color, alpha=0.6, label='Accuracy')\n",
        "ax1.tick_params(axis='y', labelcolor=color)\n",
        "ax1.set_xticks(x)\n",
        "ax1.set_xticklabels(methods)\n",
        "\n",
        "ax2 = ax1.twinx()  # instantiate a second axes that shares the same x-axis\n",
        "color = 'tab:blue'\n",
        "ax2.set_ylabel('AR Score', color=color)  # we already handled the x-label with ax1\n",
        "ax2.plot(x, arscores, color=color, marker='o', label='AR Score')\n",
        "ax2.tick_params(axis='y', labelcolor=color)\n",
        "\n",
        "fig.tight_layout()  # otherwise the right y-label is slightly clipped\n",
        "plt.show()\n"
      ],
      "metadata": {
        "colab": {
          "base_uri": "https://localhost:8080/",
          "height": 486
        },
        "id": "0obMfGxzPslo",
        "outputId": "5b220109-59d2-4b22-efaf-6dadf9782130"
      },
      "execution_count": 50,
      "outputs": [
        {
          "output_type": "display_data",
          "data": {
            "text/plain": [
              "<Figure size 640x480 with 2 Axes>"
            ],
            "image/png": "[encoded data removed]"
          },
          "metadata": {}
        }
      ]
    },
    {
      "cell_type": "markdown",
      "source": [
        "Widzimy, że zarówno regresja liniowa jak i SVM radzą sobie lepiej niż NBC, ale jednocześnie ar_score jest nieco niższe niż dla prostej siexi neuronowej."
      ],
      "metadata": {
        "id": "3wxf0hwh7roK"
      }
    },
    {
      "cell_type": "code",
      "source": [],
      "metadata": {
        "id": "0am7b1FDeuTN"
      },
      "execution_count": null,
      "outputs": []
    },
    {
      "cell_type": "code",
      "source": [],
      "metadata": {
        "id": "MbYcF2ABeuez"
      },
      "execution_count": null,
      "outputs": []
    },
    {
      "cell_type": "code",
      "source": [],
      "metadata": {
        "id": "Zi5UA2h_euwj"
      },
      "execution_count": null,
      "outputs": []
    },
    {
      "cell_type": "markdown",
      "source": [
        "# Modyfikacja sieci neuronowej - uwzględnienie dodatkowych informacji\n",
        "Zarówno w negatywnych jak i pozytywnych opiniach często używane są emocjonalne słowa, aby podkreślić swoje zdanie. Użycie np. słowa \"głupi\" albo \"beznadziejny\" dosyć jednoznacznie wskazuje na negatywny wydźwięk opinii, podczas gdy słowa takie jak \"świetny\", \"piękny\" wskazują na pozytywne emocje.\n",
        "\n",
        "Spróbujemy zatem zmodyfikować naszą wcześniejszą sieć nauronową tak aby mocniej uwzględnić takie słowa o jednoznacznym wydźwięku. Do tego celu użyjemy dwóch zestawów słów: pozytywnych oraz negatywnych. Oba zestawy liczą ok. 500 słów.\n",
        "\n",
        "1) Podstawowa sieć działa dokładnie tak samo jak wcześniej\n",
        "\n",
        "2) Dodatkowo dla każdej opinii zliczymy ile razy występują w niej słowa negatywne i pozytywne i obliczone na tej podstawie wartości przekażemy do osobnych sieci neuronowych\n",
        "\n",
        "3) W ostatniej warstwie łączymy reprezentacje cech pozytywnych i negatywnych razem z reprezentacją cech przetworzonego tekstu i na tej podstawie dokonujemy klasyfikacji\n",
        "\n",
        "Dzięki zastosowaniu takiego mechanizmu nasza sieć dalej ma informacje bezpośrednio na podstawie tekstu, ale dodatkowo otrzymuje informacje, które powinny pomóc nakierować się we właściwą stronę w przypadku wystąpienia słów o jednoznacznym charakterze pozytywnym allbo negatywnym"
      ],
      "metadata": {
        "id": "b8QFY4MS8Yeu"
      }
    },
    {
      "cell_type": "code",
      "source": [
        "import torch\n",
        "import torch.nn as nn\n",
        "import torch.optim as optim\n",
        "from torch.utils.data import Dataset, DataLoader\n",
        "from sklearn.feature_extraction.text import CountVectorizer\n",
        "from sklearn.preprocessing import LabelEncoder\n",
        "from nltk.tokenize import word_tokenize\n",
        "import numpy as np\n",
        "\n",
        "\n",
        "def calculate_sentiment_scores(text, negative_words, positive_words):\n",
        "    tokens = simple_tokenizer(text)\n",
        "    # \"lemma\" is the word without the 2 last chars\n",
        "    negative_score = sum(1 for word in tokens if any(word[:-2] in neg_word for neg_word in negative_words)) + 1\n",
        "    positive_score = sum(1 for word in tokens if any(word[:-2] in pos_word for pos_word in positive_words)) + 1\n",
        "    total_words = len(tokens) + 1\n",
        "\n",
        "    return negative_score / total_words, positive_score / total_words\n",
        "\n",
        "class TextDataset(Dataset):\n",
        "    def __init__(self, vectorized_texts, labels, original_texts, negative_words, positive_words):\n",
        "        self.vectorized_texts = vectorized_texts\n",
        "        self.labels = labels\n",
        "        self.original_texts = original_texts\n",
        "        self.negative_words = negative_words\n",
        "        self.positive_words = positive_words\n",
        "\n",
        "    def __len__(self):\n",
        "        return len(self.vectorized_texts)\n",
        "\n",
        "    def __getitem__(self, idx):\n",
        "        vectorized_text = self.vectorized_texts[idx]\n",
        "        label = self.labels[idx]\n",
        "        # Calculate sentiment scores from the original text\n",
        "        negative_score, positive_score = calculate_sentiment_scores(self.original_texts[idx], self.negative_words, self.positive_words)\n",
        "        return vectorized_text, label, negative_score, positive_score\n",
        "\n",
        "class SimpleNN(nn.Module):\n",
        "    def __init__(self, num_features):\n",
        "        super(SimpleNN, self).__init__()\n",
        "        # Main text features pathway\n",
        "        self.fc1 = nn.Linear(num_features, 16)\n",
        "        self.fc2 = nn.Linear(16, 32)\n",
        "        self.fc3 = nn.Linear(32, 16)\n",
        "\n",
        "        # Separate pathways for negative and positive sentiment scores\n",
        "        self.negative_fc1 = nn.Linear(1, 8)\n",
        "        self.negative_fc2 = nn.Linear(8, 16)\n",
        "        self.positive_fc1 = nn.Linear(1, 8)\n",
        "        self.positive_fc2 = nn.Linear(8, 16)\n",
        "\n",
        "        # Final layer\n",
        "        self.fc4 = nn.Linear(16 + 16 + 16, 5)  # Combining text features with negative and positive sentiment pathways\n",
        "\n",
        "    def forward(self, x, negative_score, positive_score):\n",
        "        # Main text features pathway\n",
        "        negative_score = negative_score.float()\n",
        "        positive_score = positive_score.float()\n",
        "        x = torch.relu(self.fc1(x))\n",
        "        x = torch.relu(self.fc2(x))\n",
        "        x = torch.relu(self.fc3(x))\n",
        "\n",
        "        # Negative sentiment pathway\n",
        "        negative_score = torch.relu(self.negative_fc1(negative_score.unsqueeze(1)))\n",
        "        negative_score = torch.relu(self.negative_fc2(negative_score))\n",
        "\n",
        "        # Positive sentiment pathway\n",
        "        positive_score = torch.relu(self.positive_fc1(positive_score.unsqueeze(1)))\n",
        "        positive_score = torch.relu(self.positive_fc2(positive_score))\n",
        "\n",
        "        # Combine the outputs from all pathways\n",
        "        x = torch.cat((x, negative_score, positive_score), dim=1)\n",
        "        return x\n",
        "\n",
        "\n",
        "# Modify your create_data_loaders function to include the original texts\n",
        "def create_data_loaders(train_texts, train_labels, dev_texts, dev_labels, vectorizer, negative_words, positive_words):\n",
        "    X_train = vectorizer.fit_transform(train_texts).toarray()\n",
        "    X_dev = vectorizer.transform(dev_texts).toarray()\n",
        "\n",
        "    # Convert vectorized texts to tensors\n",
        "    X_train = torch.tensor(X_train, dtype=torch.float32)\n",
        "    X_dev = torch.tensor(X_dev, dtype=torch.float32)\n",
        "\n",
        "    # Encode labels\n",
        "    label_encoder = LabelEncoder()\n",
        "    y_train = torch.tensor(label_encoder.fit_transform(train_labels), dtype=torch.long)\n",
        "    y_dev = torch.tensor(label_encoder.transform(dev_labels), dtype=torch.long)\n",
        "\n",
        "    # Create datasets and data loaders\n",
        "    train_dataset = TextDataset(X_train, y_train, train_texts, negative_words, positive_words)\n",
        "    dev_dataset = TextDataset(X_dev, y_dev, dev_texts, negative_words, positive_words)\n",
        "\n",
        "    train_loader = DataLoader(train_dataset, batch_size=32, shuffle=True)\n",
        "    dev_loader = DataLoader(dev_dataset, batch_size=32, shuffle=False)\n",
        "\n",
        "    return train_loader, dev_loader, X_train.shape[1]\n",
        "\n",
        "# Modify the training loop to use vectorized_text for the model input\n",
        "def train_and_evaluate(train_loader, dev_loader, input_size, num_epochs=10):\n",
        "    model = SimpleNN(num_features=input_size).to(device)\n",
        "    criterion = nn.CrossEntropyLoss()\n",
        "    optimizer = optim.Adam(model.parameters(), lr=0.001)\n",
        "\n",
        "    # Training loop\n",
        "    for epoch in range(num_epochs):\n",
        "        model.train()\n",
        "        for vectorized_text, labels, negative_score, positive_score in train_loader:\n",
        "            vectorized_text, labels = vectorized_text.to(device), labels.to(device)\n",
        "            negative_score, positive_score = negative_score.to(device), positive_score.to(device)\n",
        "            optimizer.zero_grad()\n",
        "            outputs = model(vectorized_text, negative_score, positive_score)\n",
        "            loss = criterion(outputs, labels)\n",
        "            loss.backward()\n",
        "            optimizer.step()\n",
        "\n",
        "        print(f\"Epoch {epoch+1}/{num_epochs}, Loss: {loss.item()}\")\n",
        "\n",
        "    # Evaluate the model\n",
        "    model.eval()\n",
        "    with torch.no_grad():\n",
        "        correct = 0\n",
        "        total = 0\n",
        "        predictions = []\n",
        "        for vectorized_text, labels, negative_score, positive_score in dev_loader:\n",
        "            vectorized_text, labels = vectorized_text.to(device), labels.to(device)\n",
        "            negative_score, positive_score = negative_score.to(device), positive_score.to(device)\n",
        "            outputs = model(vectorized_text, negative_score, positive_score)\n",
        "            _, predicted = torch.max(outputs.data, 1)\n",
        "            total += labels.size(0)\n",
        "            correct += (predicted == labels).sum().item()\n",
        "            predictions.extend(predicted.cpu().numpy() + 1) #back to label 1-5\n",
        "\n",
        "    accuracy = 100 * correct / total\n",
        "    return accuracy, predictions\n"
      ],
      "metadata": {
        "id": "rN0fNOzTeu6Q"
      },
      "execution_count": 37,
      "outputs": []
    },
    {
      "cell_type": "code",
      "source": [
        "# Function to read words from a file into a list\n",
        "def load_words_from_file(file_path):\n",
        "    with open(file_path, 'r') as file:\n",
        "        words = file.read().splitlines()\n",
        "    return words\n",
        "\n",
        "# Load negative and positive words from txt files\n",
        "negative_words = load_words_from_file('niefajneslowa.txt')  # Replace with your actual file path\n",
        "positive_words = load_words_from_file('fajneslowa.txt')  # Replace with your actual file path\n",
        "\n",
        "# Vectorizers\n",
        "vectorizer_raw = CountVectorizer(tokenizer=simple_tokenizer)\n",
        "\n",
        "# Training and evaluation\n",
        "results = {}\n",
        "\n",
        "# Raw Text\n",
        "# Pass the negative and positive words lists to the create_data_loaders function\n",
        "train_loader, dev_loader, input_size = create_data_loaders(\n",
        "    train_df['text'],\n",
        "    train_df['rating'],\n",
        "    dev_df['text'],\n",
        "    dev_df['rating'],\n",
        "    vectorizer_raw,\n",
        "    negative_words,\n",
        "    positive_words\n",
        ")\n",
        "\n",
        "# Train and evaluate the model with the new data loaders that include sentiment scores\n",
        "accuracy, predictions = train_and_evaluate(train_loader, dev_loader, input_size)\n",
        "\n",
        "# Calculate the adjusted rand score (assuming ar_score function is defined)\n",
        "arscore = ar_score(np.array(dev_df['rating']), np.array(predictions))\n",
        "\n",
        "# Store the results\n",
        "results['Raw Text'] = (accuracy, arscore)\n"
      ],
      "metadata": {
        "colab": {
          "base_uri": "https://localhost:8080/"
        },
        "id": "vA9E2SFEe4Gj",
        "outputId": "fd55d863-03f2-4160-8f72-4a4bc7d55f6b"
      },
      "execution_count": 30,
      "outputs": [
        {
          "output_type": "stream",
          "name": "stderr",
          "text": [
            "/usr/local/lib/python3.10/dist-packages/sklearn/feature_extraction/text.py:528: UserWarning: The parameter 'token_pattern' will not be used since 'tokenizer' is not None'\n",
            "  warnings.warn(\n"
          ]
        },
        {
          "output_type": "stream",
          "name": "stdout",
          "text": [
            "Epoch 1/10, Loss: 1.6413995027542114\n",
            "Epoch 2/10, Loss: 0.5756399631500244\n",
            "Epoch 3/10, Loss: 0.5180143713951111\n",
            "Epoch 4/10, Loss: 0.1373067945241928\n",
            "Epoch 5/10, Loss: 0.03975498676300049\n",
            "Epoch 6/10, Loss: 0.017928829416632652\n",
            "Epoch 7/10, Loss: 0.006960743106901646\n",
            "Epoch 8/10, Loss: 0.003323993878439069\n",
            "Epoch 9/10, Loss: 0.002631229115650058\n",
            "Epoch 10/10, Loss: 0.0023133973591029644\n"
          ]
        }
      ]
    },
    {
      "cell_type": "markdown",
      "source": [
        "Widzimy że o ile ar_score jest bardzo zbliżony do wcześniejszej wersji, to accuracy wyraźnie wzrosło i znacznie przekroczyło 50% co należy uznać za pewne usprawnienie naszej wcześniejszej wersji"
      ],
      "metadata": {
        "id": "uBnyG6iEDsMY"
      }
    },
    {
      "cell_type": "code",
      "source": [
        "print(accuracy)\n",
        "print(arscore)"
      ],
      "metadata": {
        "colab": {
          "base_uri": "https://localhost:8080/"
        },
        "id": "SOxcsHgts3bi",
        "outputId": "bd66957e-5901-442c-8f30-471c418da098"
      },
      "execution_count": 31,
      "outputs": [
        {
          "output_type": "stream",
          "name": "stdout",
          "text": [
            "55.489021956087825\n",
            "0.8103008656924816\n"
          ]
        }
      ]
    },
    {
      "cell_type": "code",
      "source": [
        "# Basic Cleaning\n",
        "# Pass the negative and positive words lists to the create_data_loaders function\n",
        "train_loader, dev_loader, input_size = create_data_loaders(\n",
        "    train_df['text_basic_clean'],\n",
        "    train_df['rating'],\n",
        "    dev_df['text_basic_clean'],\n",
        "    dev_df['rating'],\n",
        "    vectorizer_raw,\n",
        "    negative_words,\n",
        "    positive_words\n",
        ")\n",
        "\n",
        "# Train and evaluate the model with the new data loaders that include sentiment scores\n",
        "accuracy, predictions = train_and_evaluate(train_loader, dev_loader, input_size)\n",
        "\n",
        "# Calculate the adjusted rand score (assuming ar_score function is defined)\n",
        "arscore = ar_score(np.array(dev_df['rating']), np.array(predictions))\n",
        "\n",
        "# Store the results\n",
        "results['Basic Cleaning'] = (accuracy, arscore)"
      ],
      "metadata": {
        "colab": {
          "base_uri": "https://localhost:8080/"
        },
        "id": "WNrvO2azw5-i",
        "outputId": "e45e96bc-dc8a-4013-de08-ea323e733521"
      },
      "execution_count": 32,
      "outputs": [
        {
          "output_type": "stream",
          "name": "stderr",
          "text": [
            "/usr/local/lib/python3.10/dist-packages/sklearn/feature_extraction/text.py:528: UserWarning: The parameter 'token_pattern' will not be used since 'tokenizer' is not None'\n",
            "  warnings.warn(\n"
          ]
        },
        {
          "output_type": "stream",
          "name": "stdout",
          "text": [
            "Epoch 1/10, Loss: 2.1770784854888916\n",
            "Epoch 2/10, Loss: 1.1424555778503418\n",
            "Epoch 3/10, Loss: 1.2146977186203003\n",
            "Epoch 4/10, Loss: 0.9960953593254089\n",
            "Epoch 5/10, Loss: 1.2960569858551025\n",
            "Epoch 6/10, Loss: 0.4341696500778198\n",
            "Epoch 7/10, Loss: 0.43203970789909363\n",
            "Epoch 8/10, Loss: 0.8624065518379211\n",
            "Epoch 9/10, Loss: 0.04467712342739105\n",
            "Epoch 10/10, Loss: 0.4330202341079712\n"
          ]
        }
      ]
    },
    {
      "cell_type": "code",
      "source": [
        "print(accuracy)\n",
        "print(arscore)"
      ],
      "metadata": {
        "colab": {
          "base_uri": "https://localhost:8080/"
        },
        "id": "6QhNDOWIxJgW",
        "outputId": "efb1d704-d768-45ba-fa45-845e1545f282"
      },
      "execution_count": 33,
      "outputs": [
        {
          "output_type": "stream",
          "name": "stdout",
          "text": [
            "55.28942115768463\n",
            "0.7909224804349083\n"
          ]
        }
      ]
    },
    {
      "cell_type": "code",
      "source": [
        "# No Stopwords\n",
        "# Pass the negative and positive words lists to the create_data_loaders function\n",
        "train_loader, dev_loader, input_size = create_data_loaders(\n",
        "    train_df['text_no_stopwords'],\n",
        "    train_df['rating'],\n",
        "    dev_df['text_no_stopwords'],\n",
        "    dev_df['rating'],\n",
        "    vectorizer_raw,\n",
        "    negative_words,\n",
        "    positive_words\n",
        ")\n",
        "\n",
        "# Train and evaluate the model with the new data loaders that include sentiment scores\n",
        "accuracy, predictions = train_and_evaluate(train_loader, dev_loader, input_size)\n",
        "\n",
        "# Calculate the adjusted rand score (assuming ar_score function is defined)\n",
        "arscore = ar_score(np.array(dev_df['rating']), np.array(predictions))\n",
        "\n",
        "# Store the results\n",
        "results['No Stopwords'] = (accuracy, arscore)"
      ],
      "metadata": {
        "colab": {
          "base_uri": "https://localhost:8080/"
        },
        "id": "niWmEvtCxKs0",
        "outputId": "255d1a96-1b10-4c1d-d422-5f47db87a56e"
      },
      "execution_count": 40,
      "outputs": [
        {
          "output_type": "stream",
          "name": "stderr",
          "text": [
            "/usr/local/lib/python3.10/dist-packages/sklearn/feature_extraction/text.py:528: UserWarning: The parameter 'token_pattern' will not be used since 'tokenizer' is not None'\n",
            "  warnings.warn(\n"
          ]
        },
        {
          "output_type": "stream",
          "name": "stdout",
          "text": [
            "Epoch 1/10, Loss: 1.392088532447815\n",
            "Epoch 2/10, Loss: 1.1815227270126343\n",
            "Epoch 3/10, Loss: 0.33635544776916504\n",
            "Epoch 4/10, Loss: 0.0630883052945137\n",
            "Epoch 5/10, Loss: 0.029373712837696075\n",
            "Epoch 6/10, Loss: 0.008487213402986526\n",
            "Epoch 7/10, Loss: 0.014667068608105183\n",
            "Epoch 8/10, Loss: 0.0032588026951998472\n",
            "Epoch 9/10, Loss: 0.010088435374200344\n",
            "Epoch 10/10, Loss: 0.0024919393472373486\n"
          ]
        }
      ]
    },
    {
      "cell_type": "code",
      "source": [
        "print(accuracy)\n",
        "print(arscore)"
      ],
      "metadata": {
        "colab": {
          "base_uri": "https://localhost:8080/"
        },
        "id": "BmdAxTnoxLb_",
        "outputId": "64c1e09d-3bd4-4379-88b4-d263edda2a5b"
      },
      "execution_count": 41,
      "outputs": [
        {
          "output_type": "stream",
          "name": "stdout",
          "text": [
            "52.79441117764471\n",
            "0.7933384155863853\n"
          ]
        }
      ]
    },
    {
      "cell_type": "code",
      "source": [
        "# Lemmatization\n",
        "# Pass the negative and positive words lists to the create_data_loaders function\n",
        "train_loader, dev_loader, input_size = create_data_loaders(\n",
        "    train_df['text_lemmatized'],\n",
        "    train_df['rating'],\n",
        "    dev_df['text_lemmatized'],\n",
        "    dev_df['rating'],\n",
        "    vectorizer_raw,\n",
        "    negative_words,\n",
        "    positive_words\n",
        ")\n",
        "\n",
        "# Train and evaluate the model with the new data loaders that include sentiment scores\n",
        "accuracy, predictions = train_and_evaluate(train_loader, dev_loader, input_size)\n",
        "\n",
        "# Calculate the adjusted rand score (assuming ar_score function is defined)\n",
        "arscore = ar_score(np.array(dev_df['rating']), np.array(predictions))\n",
        "\n",
        "# Store the results\n",
        "results['Lemmatization'] = (accuracy, arscore)"
      ],
      "metadata": {
        "colab": {
          "base_uri": "https://localhost:8080/"
        },
        "id": "vGTecGG6xLnI",
        "outputId": "3b4e2e5e-8059-46fa-b101-1201b3330ea8"
      },
      "execution_count": 44,
      "outputs": [
        {
          "output_type": "stream",
          "name": "stderr",
          "text": [
            "/usr/local/lib/python3.10/dist-packages/sklearn/feature_extraction/text.py:528: UserWarning: The parameter 'token_pattern' will not be used since 'tokenizer' is not None'\n",
            "  warnings.warn(\n"
          ]
        },
        {
          "output_type": "stream",
          "name": "stdout",
          "text": [
            "Epoch 1/10, Loss: 2.0516672134399414\n",
            "Epoch 2/10, Loss: 0.9121776223182678\n",
            "Epoch 3/10, Loss: 0.7484240531921387\n",
            "Epoch 4/10, Loss: 0.7905657887458801\n",
            "Epoch 5/10, Loss: 0.11954609304666519\n",
            "Epoch 6/10, Loss: 0.011577526107430458\n",
            "Epoch 7/10, Loss: 0.03483658656477928\n",
            "Epoch 8/10, Loss: 0.01828884333372116\n",
            "Epoch 9/10, Loss: 0.018994083628058434\n",
            "Epoch 10/10, Loss: 0.0064390371553599834\n"
          ]
        }
      ]
    },
    {
      "cell_type": "code",
      "source": [
        "print(accuracy)\n",
        "print(arscore)"
      ],
      "metadata": {
        "colab": {
          "base_uri": "https://localhost:8080/"
        },
        "id": "of7NZ7K1xMQX",
        "outputId": "11ebe76b-c315-4ab8-b851-5115174984b0"
      },
      "execution_count": 45,
      "outputs": [
        {
          "output_type": "stream",
          "name": "stdout",
          "text": [
            "50.199600798403196\n",
            "0.7812459914770292\n"
          ]
        }
      ]
    },
    {
      "cell_type": "code",
      "source": [
        "# Plot the results\n",
        "import matplotlib.pyplot as plt\n",
        "\n",
        "methods = list(results.keys())\n",
        "accuracies = [results[method][0] for method in methods]\n",
        "arscores = [results[method][1] for method in methods]\n",
        "\n",
        "x = range(len(methods))\n",
        "\n",
        "fig, ax1 = plt.subplots()\n",
        "\n",
        "color = 'tab:red'\n",
        "ax1.set_xlabel('Cleaning Method')\n",
        "ax1.set_ylabel('Accuracy', color=color)\n",
        "ax1.bar(x, accuracies, color=color, alpha=0.6, label='Accuracy')\n",
        "ax1.tick_params(axis='y', labelcolor=color)\n",
        "ax1.set_xticks(x)\n",
        "ax1.set_xticklabels(methods)\n",
        "\n",
        "ax2 = ax1.twinx()  # instantiate a second axes that shares the same x-axis\n",
        "color = 'tab:blue'\n",
        "ax2.set_ylabel('AR Score', color=color)  # we already handled the x-label with ax1\n",
        "ax2.plot(x, arscores, color=color, marker='o', label='AR Score')\n",
        "ax2.tick_params(axis='y', labelcolor=color)\n",
        "\n",
        "fig.tight_layout()  # otherwise the right y-label is slightly clipped\n",
        "plt.show()\n"
      ],
      "metadata": {
        "colab": {
          "base_uri": "https://localhost:8080/",
          "height": 487
        },
        "id": "2X3OFklq9aCj",
        "outputId": "e809879f-11ca-4b9c-c640-250c89368a05"
      },
      "execution_count": 47,
      "outputs": [
        {
          "output_type": "display_data",
          "data": {
            "text/plain": [
              "<Figure size 640x480 with 2 Axes>"
            ],
            "image/png": "[encoded data removed]"
          },
          "metadata": {}
        }
      ]
    },
    {
      "cell_type": "markdown",
      "source": [
        "# Model Roberta\n",
        "polish-roberta-large-v2 to model trenowany na bardzo dużej ilości polskich danych tekstowych i jest obecnie najlepszym modelem, który osiąga wyniki as_score na poziomie 0.89.\n",
        "\n",
        "Zanim go użyjemy musimy go dostosować do problemu klasyfikacji."
      ],
      "metadata": {
        "id": "zpV14jkn_N3q"
      }
    },
    {
      "cell_type": "code",
      "source": [
        "from transformers import RobertaModel, RobertaTokenizer, RobertaForSequenceClassification\n",
        "import torch\n",
        "from transformers import AutoTokenizer, RobertaForSequenceClassification\n",
        "from transformers import Trainer, TrainingArguments\n",
        "\n",
        "tokenizer = AutoTokenizer.from_pretrained(\"sdadas/polish-roberta-large-v2\")\n",
        "model = RobertaForSequenceClassification.from_pretrained(\"sdadas/polish-roberta-large-v2\", num_labels=5)\n",
        "\n",
        "model.to(device)\n",
        "train_labels = torch.tensor(train_df['rating'].values).long().to(device)\n",
        "dev_labels = torch.tensor(dev_df['rating'].values).long().to(device)\n",
        "\n",
        "# Define training arguments\n",
        "training_args = TrainingArguments(\n",
        "    output_dir='./results',          # output directory\n",
        "    report_to='none',  # Disable wandb\n",
        "    num_train_epochs=3,              # total number of training epochs\n",
        "    per_device_train_batch_size=16,  # batch size per device during training\n",
        "    warmup_steps=500,                # number of warmup steps for learning rate scheduler\n",
        "    weight_decay=0.01,               # strength of weight decay\n",
        "    logging_dir='./logs',            # directory for storing logs\n",
        ")\n",
        "\n",
        "# Initialize the Trainer\n",
        "trainer = Trainer(\n",
        "    model=model,                         # the instantiated 🤗 Transformers model to be trained\n",
        "    args=training_args,                  # training arguments, defined above\n",
        "    train_dataset=train_dataset,         # training dataset\n",
        "    eval_dataset=dev_dataset            # evaluation dataset\n",
        ")\n",
        "\n",
        "# Train the model\n",
        "trainer.train()\n",
        "\n"
      ],
      "metadata": {
        "id": "SM6aMFda_ONL"
      },
      "execution_count": null,
      "outputs": []
    },
    {
      "cell_type": "markdown",
      "source": [
        "# BONUS - klasyfikacja sentymentu w mediach społecznościowych\n",
        "Klasyfikator wyćwiczony na zbiorze opinii internetowych może zostać także wykorzystany w innych celach. Opinie w internecie na temat produktów mają podobną długość i wydźwięk emocjonalny jak wpisy na portalu X (dawniej Twitter). Spróbujmy zatem wykorzystać wcześniej wytrenowany przez nas model do określenia jak zmieniały się emocje (od negatywnych - \"1 gwiazdka\" do pozytywnych - \"5 gwiazdek\"). Naszą analizę przeprowadzimy na zbiorze wpisów z najpopularniejszych polskich kont z ostatnich 2 lat."
      ],
      "metadata": {
        "id": "hdkfsloa_S4Z"
      }
    },
    {
      "cell_type": "code",
      "source": [
        "# TODO"
      ],
      "metadata": {
        "id": "XT0iAkIx_TQa"
      },
      "execution_count": null,
      "outputs": []
    }
  ]
}